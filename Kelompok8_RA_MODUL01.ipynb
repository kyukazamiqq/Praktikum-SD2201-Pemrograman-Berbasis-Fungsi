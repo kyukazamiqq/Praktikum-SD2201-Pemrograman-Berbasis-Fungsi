{
 "cells": [
  {
   "cell_type": "markdown",
   "id": "b5bf6483-3e4b-4dd0-8eff-229cf65b2653",
   "metadata": {},
   "source": [
    "# Tugas Kelompok 8 Modul 01\n",
    "\n",
    "Anggota Kelompok 8 : \n",
    "\n",
    "- Nawwaf Abdurrahman (RC)\n",
    "- Rendra Eka Prayga (RA)\n",
    "- Kemas Veriandra Ramdhan (RA)\n",
    "- Rafa Aqilla Jungjunan (RA)\n",
    "- Esteria Rohanauli (RA)\n",
    "\n"
   ]
  },
  {
   "cell_type": "markdown",
   "id": "47f22d73-5f9f-41ad-83cf-3de9fd6f4d78",
   "metadata": {},
   "source": [
    "## Soal"
   ]
  },
  {
   "cell_type": "markdown",
   "id": "920711a1-5c09-4c6b-a4be-a20df9a68597",
   "metadata": {},
   "source": [
    "1. Buatlah fungsi komposisi dengan nilai dan dengan pemrograman\n",
    "prosedural tiga fungsi dan pemrograman fungsional dengan lambda!"
   ]
  },
  {
   "cell_type": "code",
   "execution_count": 25,
   "id": "0cfd428f-dcdf-4010-93b1-285799951a01",
   "metadata": {},
   "outputs": [
    {
     "name": "stdout",
     "output_type": "stream",
     "text": [
      "147\n",
      "Waktu Eksekusi : 0.0003809928894042969 ms\n"
     ]
    }
   ],
   "source": [
    "import time \n",
    "\n",
    "start = time.time()\n",
    "def f(x):\n",
    "    return 4*x\n",
    "\n",
    "def g(x):\n",
    "    return x*x\n",
    "\n",
    "def h(x):\n",
    "    return 3+x\n",
    "\n",
    "# Composition\n",
    "end = time.time()\n",
    "\n",
    "print(h(g(f(3))))\n",
    "\n",
    "print(f\"Waktu Eksekusi : {end-start} ms\")\n",
    "\n",
    "\n"
   ]
  },
  {
   "cell_type": "code",
   "execution_count": 22,
   "id": "689847bf-b7fd-4fba-ba3d-02bef47fcc49",
   "metadata": {},
   "outputs": [
    {
     "name": "stdout",
     "output_type": "stream",
     "text": [
      "147\n",
      "Waktu eksekusi : 0.0003566741943359375\n"
     ]
    }
   ],
   "source": [
    "import time \n",
    "\n",
    "start = time.time()\n",
    "\n",
    "def compose(f1, f2):\n",
    "    return lambda v: f1(f2(v))\n",
    "hgf = compose(h, compose(g,f))\n",
    "\n",
    "end = time.time()\n",
    "\n",
    "print(hgf(3))\n",
    "print(f\"Waktu eksekusi : {end-start}\")"
   ]
  },
  {
   "cell_type": "markdown",
   "id": "5509a208-8e44-48c4-9e85-7f76c443e363",
   "metadata": {},
   "source": [
    "2. Buatlah pemrograman berbasis objek pada soal no.1"
   ]
  },
  {
   "cell_type": "code",
   "execution_count": 24,
   "id": "4a82f9b1-7d68-4cac-8b89-0ab1f5a5cbbf",
   "metadata": {},
   "outputs": [
    {
     "name": "stdout",
     "output_type": "stream",
     "text": [
      "259\n",
      "Waktu Eksekusi : 0.0015325546264648438\n"
     ]
    }
   ],
   "source": [
    "import time\n",
    "\n",
    "start = time.time()\n",
    "\n",
    "class Value:\n",
    "    def __init__(self, value):\n",
    "        self.value = value\n",
    "\n",
    "    def __rshift__(self, other):\n",
    "        return other(self.value)\n",
    "\n",
    "def f(x):\n",
    "    return Value(4 * x)\n",
    "\n",
    "def g(x):\n",
    "    return Value(x * x)\n",
    "\n",
    "def h(x):\n",
    "    return Value(3 + x)\n",
    "\n",
    "end = time.time()\n",
    "\n",
    "result = Value(4) >> f >> g >> h\n",
    "print(result.value)\n",
    "print(f\"Waktu Eksekusi : {end-start}\")\n",
    "\n"
   ]
  },
  {
   "cell_type": "markdown",
   "id": "e3a57915-ca5a-46c9-959b-dd9f9faf92da",
   "metadata": {},
   "source": [
    "3. Berikan Analisis Komparasi soal 1 dan 2  \n",
    "   Jika dilihat dari struktur kodenya, Pemrograman berbasis fungsi mempunyai struktur kode yang bisa dibilang sederhana karena tidak perlu mendifinisikan class serta fungsi didalam class tersebut, serta penulisan kode yang bisa lebih sederhana lagi apabila menggunakan lambda. Jika dilihat dari waktu terlihat kode dengan menggunakan pemrograman berbasis fungsi memiliki run time yang lebih cepat daripada pemrograman berbasis objek."
   ]
  },
  {
   "cell_type": "markdown",
   "id": "a08700ab-e8e1-417c-8e15-49489a08922d",
   "metadata": {},
   "source": [
    "4. Buatlah satu penyelesaian Luas Segitiga dengan menggunakan Pemrograman berorientasi Objek dan Pemrograman berbasis Fungsi. uji dengan membandingkan mana yang tercepat komputasinya."
   ]
  },
  {
   "cell_type": "code",
   "execution_count": 27,
   "id": "fa5e6db0-1f38-4cc5-b434-3ee6699f6b4b",
   "metadata": {},
   "outputs": [
    {
     "name": "stdout",
     "output_type": "stream",
     "text": [
      "12.0\n",
      "Execution time: 0.0013949871063232422 seconds\n"
     ]
    }
   ],
   "source": [
    "import time\n",
    "st = time.time()\n",
    "\n",
    "def luas_segitiga(panjang,lebar,tinggi):\n",
    "    return (panjang*lebar*tinggi)/2\n",
    "    \n",
    "print(luas_segitiga(2,3,4))\n",
    "et = time.time()\n",
    "elapsed_time = et - st\n",
    "\n",
    "print('Execution time:', elapsed_time, 'seconds')"
   ]
  },
  {
   "cell_type": "code",
   "execution_count": 28,
   "id": "510002f7-064a-4258-aeae-bfa33c9d16af",
   "metadata": {},
   "outputs": [
    {
     "name": "stdout",
     "output_type": "stream",
     "text": [
      "area of Triangle : 12.0\n",
      "Execution time: 0.0015671253204345703 seconds\n"
     ]
    }
   ],
   "source": [
    "import time\n",
    "st = time.time()\n",
    "\n",
    "class Sides:\n",
    "    def __init__(self,a, b, c):\n",
    "        self.a = a\n",
    "        self.b = b\n",
    "        self.c = c\n",
    "        \n",
    "class A(Sides):\n",
    "    def area(self):\n",
    "        s = (self.a * self.b * self.c)/2\n",
    "        return s\n",
    "        \n",
    "t = A(2,3,4)\n",
    "print(\"area of Triangle : {}\".format(t.area()))\n",
    "et = time.time()\n",
    "elapsed_time = et - st\n",
    "print('Execution time:', elapsed_time, 'seconds')"
   ]
  },
  {
   "cell_type": "markdown",
   "id": "0582e684-b2bc-4242-9fb0-557da50b5f90",
   "metadata": {},
   "source": [
    "## Analisa\n",
    "Jika dilihat dari execution timenya, PBF memiliki runtime yang lebih cepat dibandingkan dengan PBO. serta struktur kode PBF lebih sederhana daripada PBO karena tidak perlu mendefinisikan class dan juga dari ukuran file PBF lebih ringan daripada PBO"
   ]
  },
  {
   "cell_type": "code",
   "execution_count": null,
   "id": "bc9416d7-1566-46b7-bfa8-d635c552ae93",
   "metadata": {},
   "outputs": [],
   "source": []
  }
 ],
 "metadata": {
  "kernelspec": {
   "display_name": "Python 3 (ipykernel)",
   "language": "python",
   "name": "python3"
  },
  "language_info": {
   "codemirror_mode": {
    "name": "ipython",
    "version": 3
   },
   "file_extension": ".py",
   "mimetype": "text/x-python",
   "name": "python",
   "nbconvert_exporter": "python",
   "pygments_lexer": "ipython3",
   "version": "3.9.5"
  }
 },
 "nbformat": 4,
 "nbformat_minor": 5
}
